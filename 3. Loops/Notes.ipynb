{
 "cells": [
  {
   "cell_type": "markdown",
   "metadata": {},
   "source": [
    "# Week 3: Loops - Notes\n",
    "### Introduction to Loops\n",
    "\n",
    "* **Loops** allow you to **repeat actions** multiple times without writing redundant code, enhancing code design and maintainability.\n",
    "* Avoid repeating identical lines of code, especially for many repetitions, as it makes changes difficult."
   ]
  },
  {
   "cell_type": "markdown",
   "metadata": {},
   "source": [
    "### `while` Loops\n",
    "\n",
    "* **`while` loops** execute a block of code repeatedly as long as a **boolean expression** remains `True`.\n",
    "* **Syntax**:"
   ]
  },
  {
   "cell_type": "code",
   "metadata": {},
   "source": [
    "i = 3\n",
    "while i != 0: # Boolean expression\n",
    "    print(\"meow\")\n",
    "    i = i - 1 # or i -= 1 (pythonic increment/decrement)"
   ],
   "execution_count": null,
   "outputs": []
  },
  {
   "cell_type": "markdown",
   "metadata": {},
   "source": [
    "* Requires a **control variable** (e.g., `i`) to be initialized before the loop, evaluated in the condition, and updated within the loop.\n",
    "* A **colon (`:`)** is required at the end of the `while` line, followed by **indentation** for the code block to be executed within the loop.\n",
    "* **Infinite Loops**: If the control variable is not updated, or the condition always remains `True`, the loop will run forever.\n",
    "    * To stop an accidental infinite loop in the terminal, use **`Ctrl+C`**.\n",
    "* **`while True`**: A common idiom to deliberately induce an infinite loop, used when you need to repeatedly ask for input until a certain condition is met.\n",
    "    * **`break`**: Exits the most recently started loop immediately.\n",
    "    * **`continue`**: Skips the rest of the current iteration and moves to the next iteration of the loop.\n",
    "    * Example for getting positive user input:"
   ]
  },
  {
   "cell_type": "code",
   "metadata": {},
   "source": [
    "while True:\n",
    "    n = int(input(\"What's n? \"))\n",
    "    if n > 0:\n",
    "        break # Exit loop if input is valid\n",
    "# Code continues here after valid input"
   ],
   "execution_count": null,
   "outputs": []
  },
  {
   "cell_type": "markdown",
   "metadata": {},
   "source": [
    "Alternatively, a function can `return` a value to exit the loop and the function simultaneously."
   ]
  },
  {
   "cell_type": "markdown",
   "metadata": {},
   "source": [
    "### `for` Loops\n",
    "\n",
    "* **`for` loops** are used to **iterate over a sequence of items** (e.g., a list of numbers or strings).\n",
    "* **Syntax**:"
   ]
  },
  {
   "cell_type": "code",
   "metadata": {},
   "source": [
    "for item in sequence:\n",
    "    # Code to execute for each item"
   ],
   "execution_count": null,
   "outputs": []
  },
  {
   "cell_type": "markdown",
   "metadata": {},
   "source": [
    "* The `item` variable (e.g., `i`, `student`, `_`) is **automatically initialized and updated** by Python with each element of the `sequence`.\n",
    "* A **colon (`:`)** is required, followed by **indentation** for the loop's code block.\n",
    "* **`range()` function**: Generates a sequence of numbers.\n",
    "    * `range(n)`: Produces numbers starting from `0` up to, but **not including**, `n` (e.g., `range(3)` yields `0, 1, 2`).\n",
    "    * Often used with `for` loops to repeat actions a specific number of times."
   ]
  },
  {
   "cell_type": "code",
   "metadata": {},
   "source": [
    "for _ in range(3): # Using '_' as a convention for an unused variable\n",
    "    print(\"meow\")"
   ],
   "execution_count": null,
   "outputs": []
  },
  {
   "cell_type": "markdown",
   "metadata": {},
   "source": [
    "* **String Multiplication**: Strings can be multiplied by an integer to repeat them.\n",
    "    * Example: `'meow\\n' * 3` prints \"meow\" three times, each on a new line.\n",
    "    * Combine with the `end` parameter of `print()` to control the final newline:"
   ]
  },
  {
   "cell_type": "code",
   "metadata": {},
   "source": [
    "print(\"meow\\n\" * 3, end=\"\") # Removes the extra blank line"
   ],
   "execution_count": null,
   "outputs": []
  },
  {
   "cell_type": "markdown",
   "metadata": {},
   "source": [
    "### Lists\n",
    "\n",
    "* **Lists** are a data type that allows you to **store multiple values in a single variable**.\n",
    "* **Syntax**: Defined using **square brackets `[]`**, with items separated by commas."
   ]
  },
  {
   "cell_type": "code",
   "metadata": {},
   "source": [
    "students = [\"Hermione\", \"Harry\", \"Ron\"]"
   ],
   "execution_count": null,
   "outputs": []
  },
  {
   "cell_type": "markdown",
   "metadata": {},
   "source": [
    "* **Zero-indexed**: The first item in a list is at index `0`, the second at `1`, and so on.\n",
    "* **Accessing elements**: Use square brackets with an index to retrieve a specific item."
   ]
  },
  {
   "cell_type": "code",
   "metadata": {},
   "source": [
    "print(students[0]) # Prints \"Hermione\""
   ],
   "execution_count": null,
   "outputs": []
  },
  {
   "cell_type": "markdown",
   "metadata": {},
   "source": [
    "* **`len()` function**: Returns the **length (number of items)** in a list.\n",
    "    * Example: `len(students)` would return `3`.\n",
    "* **Iterating over lists**:\n",
    "    * **Directly**: `for student in students:` iterates over each item in the list.\n",
    "    * **By index**: `for i in range(len(students)):` combines `len()` and `range()` to iterate using numeric indices."
   ]
  },
  {
   "cell_type": "code",
   "metadata": {},
   "source": [
    "for i in range(len(students)):\n",
    "    print(i + 1, students[i]) # Prints 1 Hermione, 2 Harry, etc."
   ],
   "execution_count": null,
   "outputs": []
  },
  {
   "cell_type": "markdown",
   "metadata": {},
   "source": [
    "### Dictionaries (`dict`)\n",
    "\n",
    "* **Dictionaries** (or **dicts**) are a data structure that **associates a \"key\" with a \"value\"**.\n",
    "    * Think of it like a real-world dictionary: a word (key) has a definition (value).\n",
    "* **Syntax**: Defined using **curly braces `{}`**, with key-value pairs separated by colons (`:`) and pairs separated by commas."
   ]
  },
  {
   "cell_type": "code",
   "metadata": {},
   "source": [
    "students = {\n",
    "    \"Hermione\": \"Gryffindor\",\n",
    "    \"Harry\": \"Gryffindor\",\n",
    "    \"Ron\": \"Gryffindor\",\n",
    "    \"Draco\": \"Slytherin\"\n",
    "}"
   ],
   "execution_count": null,
   "outputs": []
  },
  {
   "cell_type": "markdown",
   "metadata": {},
   "source": [
    "* **Accessing values**: Use square brackets with the **key** to retrieve its associated value."
   ]
  },
  {
   "cell_type": "code",
   "metadata": {},
   "source": [
    "print(students[\"Hermione\"]) # Prints \"Gryffindor\""
   ],
   "execution_count": null,
   "outputs": []
  },
  {
   "cell_type": "markdown",
   "metadata": {},
   "source": [
    "* **Iterating over dictionaries**:\n",
    "    * A `for` loop on a dictionary iterates over its **keys** by default."
   ]
  },
  {
   "cell_type": "code",
   "metadata": {},
   "source": [
    "for student_name in students: # student_name will be \"Hermione\", \"Harry\", etc.\n",
    "    print(student_name, students[student_name]) # Print key and its value"
   ],
   "execution_count": null,
   "outputs": []
  },
  {
   "cell_type": "markdown",
   "metadata": {},
   "source": [
    "* **`None` keyword**: Represents the **absence of a value**.\n",
    "    * Example: `{\"Patronus\": None}`.\n",
    "* **List of Dictionaries**: A powerful way to store structured data, where each item in a list is a dictionary.\n",
    "    * Example: Storing multiple details (name, house, patronus) for each student."
   ]
  },
  {
   "cell_type": "code",
   "metadata": {},
   "source": [
    "students = [\n",
    "    {\"name\": \"Hermione\", \"house\": \"Gryffindor\", \"patronus\": \"Otter\"},\n",
    "    {\"name\": \"Harry\", \"house\": \"Gryffindor\", \"patronus\": \"Stag\"}\n",
    "]\n",
    "\n",
    "for student in students:\n",
    "    print(student[\"name\"], student[\"house\"], student[\"patronus\"])"
   ],
   "execution_count": null,
   "outputs": []
  },
  {
   "cell_type": "markdown",
   "metadata": {},
   "source": [
    "### Functions and Abstraction\n",
    "\n",
    "* **Functions** allow you to **define reusable blocks of code**.\n",
    "* **Abstraction**: Functions simplify complex ideas by encapsulating details, allowing you to think about \"what\" a function does rather than \"how\" it does it.\n",
    "* **Nesting loops**: One loop can be placed inside another to handle two-dimensional problems (e.g., printing a square grid).\n",
    "    * The outer loop controls rows, and the inner loop controls columns."
   ]
  },
  {
   "cell_type": "code",
   "metadata": {},
   "source": [
    "def print_square(size):\n",
    "    for i in range(size):    # For each row\n",
    "        for j in range(size): # For each brick in row\n",
    "            print(\"#\", end=\"\") # Print brick, no newline\n",
    "        print() # Print a newline after each row"
   ],
   "execution_count": null,
   "outputs": []
  },
  {
   "cell_type": "markdown",
   "metadata": {},
   "source": [
    "* Calling `print()` with no arguments simply prints a **newline character**.\n",
    "* Functions can call other functions, allowing for **decomposition** of complex problems into smaller, manageable parts."
   ]
  }
 ],
 "metadata": {
  "kernelspec": {
   "display_name": "Python 3",
   "language": "python",
   "name": "python3"
  },
  "language_info": {
   "name": "python",
   "version": ""
  }
 },
 "nbformat": 4,
 "nbformat_minor": 2
}
