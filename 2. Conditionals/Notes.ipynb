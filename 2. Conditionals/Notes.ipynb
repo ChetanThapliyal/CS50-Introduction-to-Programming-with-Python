{
 "cells": [
  {
   "cell_type": "markdown",
   "metadata": {},
   "source": [
    "# Week 2: Conditionals - Notes\n",
    "\n",
    "---\n",
    "\n",
    "## Learning Objectives\n",
    "\n",
    "- Understand how conditionals allow programs to make decisions.\n",
    "- Learn Python's comparison and logical operators.\n",
    "- Use `if`, `elif`, and `else` statements to control program flow.\n",
    "- Apply the modulo operator for even/odd checks.\n",
    "- Write custom functions with conditionals.\n",
    "- Use the `match` statement for pattern matching.\n",
    "- Recognize common mistakes and best practices.\n",
    "\n",
    "---\n",
    "\n",
    "## 1. Introduction\n",
    "\n",
    "Conditionals, or conditional statements, allow programs to **make decisions** and execute different blocks of code based on whether certain questions are true or false. They enable logical \"forks in the road\" in your code.\n",
    "\n",
    "---\n",
    "\n",
    "## 2. Comparison Operators\n",
    "\n",
    "These symbols are used to ask mathematical questions, resulting in a **boolean expression** (`True`/`False` answer).\n",
    "\n",
    "| Operator | Meaning                  | Example (`x=5, y=7`) | Result |\n",
    "|----------|-------------------------|----------------------|--------|\n",
    "| `>`      | Greater than             | `x > y`              | False  |\n",
    "| `>=`     | Greater than or equal to | `x >= y`             | False  |\n",
    "| `<`      | Less than                | `x < y`              | True   |\n",
    "| `<=`     | Less than or equal to    | `x <= y`             | True   |\n",
    "| `==`     | Equality                 | `x == y`             | False  |\n",
    "| `!=`     | Not equal to             | `x != y`             | True   |\n",
    "\n",
    "> **Note:** A single `=` is for assignment, not comparison."
   ]
  },
  {
   "cell_type": "code",
   "execution_count": 1,
   "metadata": {},
   "outputs": [
    {
     "name": "stdout",
     "output_type": "stream",
     "text": [
      "x = 5, y = 7\n",
      "x > y: False\n",
      "x >= y: False\n",
      "x < y: True\n",
      "x <= y: True\n",
      "x == y: False\n",
      "x != y: True\n"
     ]
    }
   ],
   "source": [
    "# Let's test comparison operators\n",
    "x = 5\n",
    "y = 7\n",
    "\n",
    "print(f\"x = {x}, y = {y}\")\n",
    "print(f\"x > y: {x > y}\")\n",
    "print(f\"x >= y: {x >= y}\")\n",
    "print(f\"x < y: {x < y}\")\n",
    "print(f\"x <= y: {x <= y}\")\n",
    "print(f\"x == y: {x == y}\")\n",
    "print(f\"x != y: {x != y}\")"
   ]
  },
  {
   "cell_type": "markdown",
   "metadata": {},
   "source": [
    "## 3. `if`, `elif`, `else` Statements\n",
    "\n",
    "The primary way to implement decision-making logic.\n",
    "\n",
    "### `if` statement\n",
    "\n",
    "- Starts a conditional block.\n",
    "- Syntax: `if boolean_expression:`\n",
    "- Indentation (typically 4 spaces) is mandatory for the code block."
   ]
  },
  {
   "cell_type": "code",
   "execution_count": null,
   "metadata": {},
   "outputs": [],
   "source": [
    "# Basic if statement example\n",
    "x = int(input(\"What's x? \"))\n",
    "y = int(input(\"What's y? \"))\n",
    "\n",
    "if x < y:\n",
    "    print(\"x is less than y\")"
   ]
  },
  {
   "cell_type": "markdown",
   "metadata": {},
   "source": [
    "### `elif` statement\n",
    "\n",
    "- Used to check additional conditions if previous ones were `False`.\n",
    "- Conditions are mutually exclusive."
   ]
  },
  {
   "cell_type": "code",
   "execution_count": null,
   "metadata": {},
   "outputs": [],
   "source": [
    "# if-elif example\n",
    "x = int(input(\"What's x? \"))\n",
    "y = int(input(\"What's y? \"))\n",
    "\n",
    "if x < y:\n",
    "    print(\"x is less than y\")\n",
    "elif x > y:\n",
    "    print(\"x is greater than y\")"
   ]
  },
  {
   "cell_type": "markdown",
   "metadata": {},
   "source": [
    "### `else` statement\n",
    "\n",
    "- Provides a catch-all block if all previous conditions are `False`."
   ]
  },
  {
   "cell_type": "code",
   "execution_count": null,
   "metadata": {},
   "outputs": [],
   "source": [
    "# Complete if-elif-else example\n",
    "x = int(input(\"What's x? \"))\n",
    "y = int(input(\"What's y? \"))\n",
    "\n",
    "if x < y:\n",
    "    print(\"x is less than y\")\n",
    "elif x > y:\n",
    "    print(\"x is greater than y\")\n",
    "else:\n",
    "    print(\"x is equal to y\")"
   ]
  },
  {
   "cell_type": "markdown",
   "metadata": {},
   "source": [
    "### Nested Conditionals\n",
    "\n",
    "Conditionals can be nested for more complex logic."
   ]
  },
  {
   "cell_type": "code",
   "execution_count": null,
   "metadata": {},
   "outputs": [],
   "source": [
    "# Nested conditionals example\n",
    "age = int(input(\"Enter your age: \"))\n",
    "if age >= 18:\n",
    "    if age < 65:\n",
    "        print(\"Adult\")\n",
    "    else:\n",
    "        print(\"Senior\")\n",
    "else:\n",
    "    print(\"Minor\")"
   ]
  },
  {
   "cell_type": "markdown",
   "metadata": {},
   "source": [
    "## 4. Logical Operators (`and`, `or`, `not`)\n",
    "\n",
    "Combine multiple boolean expressions.\n",
    "\n",
    "### `or` operator\n",
    "\n",
    "- `condition1 or condition2` is `True` if **at least one** is `True`."
   ]
  },
  {
   "cell_type": "code",
   "execution_count": null,
   "metadata": {},
   "outputs": [],
   "source": [
    "# OR operator example\n",
    "name = input(\"What's your name? \")\n",
    "if name == \"Harry\" or name == \"Hermione\" or name == \"Ron\":\n",
    "    print(\"Gryffindor\")"
   ]
  },
  {
   "cell_type": "markdown",
   "metadata": {},
   "source": [
    "### `and` operator\n",
    "\n",
    "- `condition1 and condition2` is `True` only if **both** are `True`."
   ]
  },
  {
   "cell_type": "code",
   "execution_count": null,
   "metadata": {},
   "outputs": [],
   "source": [
    "# AND operator example\n",
    "score = int(input(\"Score: \"))\n",
    "if score >= 90 and score <= 100:\n",
    "    print(\"Grade: A\")"
   ]
  },
  {
   "cell_type": "markdown",
   "metadata": {},
   "source": [
    "Python allows chaining comparisons for readability:"
   ]
  },
  {
   "cell_type": "code",
   "execution_count": null,
   "metadata": {},
   "outputs": [],
   "source": [
    "# Chained comparison (more Pythonic)\n",
    "score = int(input(\"Score: \"))\n",
    "if 90 <= score <= 100:\n",
    "    print(\"Grade: A\")"
   ]
  },
  {
   "cell_type": "markdown",
   "metadata": {},
   "source": [
    "### `not` operator\n",
    "\n",
    "- Negates a boolean expression."
   ]
  },
  {
   "cell_type": "code",
   "execution_count": null,
   "metadata": {},
   "outputs": [],
   "source": [
    "# NOT operator example\n",
    "logged_in = False\n",
    "if not logged_in:\n",
    "    print(\"Please log in.\")"
   ]
  },
  {
   "cell_type": "markdown",
   "metadata": {},
   "source": [
    "## 5. Modulo Operator (`%`)\n",
    "\n",
    "Calculates the **remainder** after dividing one number by another.\n",
    "\n",
    "- Useful for determining if a number is even or odd."
   ]
  },
  {
   "cell_type": "code",
   "execution_count": null,
   "metadata": {},
   "outputs": [],
   "source": [
    "# Modulo operator for even/odd check\n",
    "x = int(input(\"What's x? \"))\n",
    "if x % 2 == 0:\n",
    "    print(\"Even\")\n",
    "else:\n",
    "    print(\"Odd\")"
   ]
  },
  {
   "cell_type": "markdown",
   "metadata": {},
   "source": [
    "## 6. Boolean Values (`True`, `False`)\n",
    "\n",
    "- Python has a built-in `bool` data type.\n",
    "- Boolean values: `True` or `False` (capitalized).\n",
    "- Functions can return boolean values."
   ]
  },
  {
   "cell_type": "code",
   "execution_count": null,
   "metadata": {},
   "outputs": [],
   "source": [
    "# Boolean values example\n",
    "is_raining = True\n",
    "if is_raining:\n",
    "    print(\"Take an umbrella!\")\n",
    "else:\n",
    "    print(\"No need for an umbrella.\")"
   ]
  },
  {
   "cell_type": "markdown",
   "metadata": {},
   "source": [
    "## 7. Custom Functions with Conditionals (e.g., `is_even`)\n",
    "\n",
    "Define your own functions (`def`) with conditional logic.\n",
    "\n",
    "### Defining `is_even`"
   ]
  },
  {
   "cell_type": "code",
   "execution_count": null,
   "metadata": {},
   "outputs": [],
   "source": [
    "# Basic is_even function\n",
    "def is_even(n):\n",
    "    if n % 2 == 0:\n",
    "        return True\n",
    "    else:\n",
    "        return False\n",
    "\n",
    "# Test the function\n",
    "print(is_even(4))  # Should print True\n",
    "print(is_even(7))  # Should print False"
   ]
  },
  {
   "cell_type": "markdown",
   "metadata": {},
   "source": [
    "### More Pythonic versions\n",
    "\n",
    "Single-line `if`/`else`:"
   ]
  },
  {
   "cell_type": "code",
   "execution_count": null,
   "metadata": {},
   "outputs": [],
   "source": [
    "# Single-line if/else (ternary operator)\n",
    "def is_even(n):\n",
    "    return True if n % 2 == 0 else False\n",
    "\n",
    "# Test the function\n",
    "print(is_even(4))  # Should print True\n",
    "print(is_even(7))  # Should print False"
   ]
  },
  {
   "cell_type": "markdown",
   "metadata": {},
   "source": [
    "Directly returning the boolean expression:"
   ]
  },
  {
   "cell_type": "code",
   "execution_count": null,
   "metadata": {},
   "outputs": [],
   "source": [
    "# Most Pythonic version\n",
    "def is_even(n):\n",
    "    return n % 2 == 0\n",
    "\n",
    "# Test the function\n",
    "print(is_even(4))  # Should print True\n",
    "print(is_even(7))  # Should print False"
   ]
  },
  {
   "cell_type": "markdown",
   "metadata": {},
   "source": [
    "### Using `is_even` in code"
   ]
  },
  {
   "cell_type": "code",
   "execution_count": null,
   "metadata": {},
   "outputs": [],
   "source": [
    "def is_even(n):\n",
    "    return n % 2 == 0\n",
    "\n",
    "def main():\n",
    "    x = int(input(\"What's x? \"))\n",
    "    if is_even(x):\n",
    "        print(\"Even\")\n",
    "    else:\n",
    "        print(\"Odd\")\n",
    "\n",
    "main()"
   ]
  },
  {
   "cell_type": "markdown",
   "metadata": {},
   "source": [
    "## 8. `match` Statement\n",
    "\n",
    "Introduced in Python 3.10+, `match` provides an alternative to `if`/`elif`/`else`.\n",
    "\n",
    "### Syntax"
   ]
  },
  {
   "cell_type": "code",
   "execution_count": null,
   "metadata": {},
   "outputs": [],
   "source": [
    "# Basic match statement\n",
    "name = input(\"What's your name? \")\n",
    "\n",
    "match name:\n",
    "    case \"Harry\":\n",
    "        print(\"Gryffindor\")\n",
    "    case \"Hermione\":\n",
    "        print(\"Gryffindor\")\n",
    "    case \"Ron\":\n",
    "        print(\"Gryffindor\")\n",
    "    case \"Draco\":\n",
    "        print(\"Slytherin\")\n",
    "    case _:\n",
    "        print(\"Who?\")"
   ]
  },
  {
   "cell_type": "markdown",
   "metadata": {},
   "source": [
    "### Combining multiple cases\n",
    "\n",
    "Use `|` to combine cases."
   ]
  },
  {
   "cell_type": "code",
   "execution_count": null,
   "metadata": {},
   "outputs": [],
   "source": [
    "# Match statement with combined cases\n",
    "name = input(\"What's your name? \")\n",
    "\n",
    "match name:\n",
    "    case \"Harry\" | \"Hermione\" | \"Ron\":\n",
    "        print(\"Gryffindor\")\n",
    "    case \"Draco\":\n",
    "        print(\"Slytherin\")\n",
    "    case _:\n",
    "        print(\"Who?\")"
   ]
  },
  {
   "cell_type": "markdown",
   "metadata": {},
   "source": [
    "> The `match` statement does **not require `break`** statements.\n",
    "\n",
    "---\n",
    "\n",
    "## 9. Key Python Indentation and Syntax\n",
    "\n",
    "- **Indentation is crucial**: Python uses indentation to define code blocks.\n",
    "- **Colons (`:`)**: Must follow `if`, `elif`, `else`, `def`, `match`, and `case` lines.\n",
    "\n",
    "---\n",
    "\n",
    "## 10. Common Mistakes and Best Practices\n",
    "\n",
    "- **Assignment vs Equality**: Use `==` for comparison, not `=`.\n",
    "- **Indentation Errors**: All code inside a block must be indented.\n",
    "- **Boolean Capitalization**: Use `True`/`False`, not `true`/`false`.\n",
    "- **Input Validation**: Always validate user input."
   ]
  },
  {
   "cell_type": "code",
   "execution_count": null,
   "metadata": {},
   "outputs": [],
   "source": [
    "# Input validation example\n",
    "x = input(\"Enter a number: \")\n",
    "if x.isdigit():\n",
    "    x = int(x)\n",
    "    print(\"Valid number!\")\n",
    "else:\n",
    "    print(\"Invalid input.\")"
   ]
  },
  {
   "cell_type": "markdown",
   "metadata": {},
   "source": [
    "## 11. Practice Exercises\n",
    "\n",
    "Try these on your own:\n",
    "\n",
    "1. Write a function `is_positive(n)` that returns `True` if `n` is positive, else `False`.\n",
    "2. Write a program that asks for a user's age and prints \"Minor\", \"Adult\", or \"Senior\" using conditionals.\n",
    "3. Write a function that checks if a string is a palindrome using conditionals."
   ]
  },
  {
   "cell_type": "code",
   "execution_count": null,
   "metadata": {},
   "outputs": [],
   "source": [
    "# Exercise 1: is_positive function\n",
    "def is_positive(n):\n",
    "    # Your code here\n",
    "    pass\n",
    "\n",
    "# Test your function\n",
    "# print(is_positive(5))   # Should print True\n",
    "# print(is_positive(-3))  # Should print False\n",
    "# print(is_positive(0))   # Should print False"
   ]
  },
  {
   "cell_type": "code",
   "execution_count": null,
   "metadata": {},
   "outputs": [],
   "source": [
    "# Exercise 2: Age categorization\n",
    "# Your code here"
   ]
  },
  {
   "cell_type": "code",
   "execution_count": null,
   "metadata": {},
   "outputs": [],
   "source": [
    "# Exercise 3: Palindrome checker\n",
    "def is_palindrome(s):\n",
    "    # Your code here\n",
    "    pass\n",
    "\n",
    "# Test your function\n",
    "# print(is_palindrome(\"racecar\"))  # Should print True\n",
    "# print(is_palindrome(\"hello\"))    # Should print False"
   ]
  },
  {
   "cell_type": "markdown",
   "metadata": {},
   "source": [
    "## 12. Summary\n",
    "\n",
    "- Conditionals let your programs make decisions.\n",
    "- Use comparison and logical operators to form boolean expressions.\n",
    "- `if`, `elif`, `else`, and `match` control program flow.\n",
    "- Indentation and syntax are critical in Python.\n",
    "- Practice writing and testing your own conditional logic!"
   ]
  }
 ],
 "metadata": {
  "kernelspec": {
   "display_name": "Python 3",
   "language": "python",
   "name": "python3"
  },
  "language_info": {
   "codemirror_mode": {
    "name": "ipython",
    "version": 3
   },
   "file_extension": ".py",
   "mimetype": "text/x-python",
   "name": "python",
   "nbconvert_exporter": "python",
   "pygments_lexer": "ipython3",
   "version": "3.13.7"
  }
 },
 "nbformat": 4,
 "nbformat_minor": 4
}
