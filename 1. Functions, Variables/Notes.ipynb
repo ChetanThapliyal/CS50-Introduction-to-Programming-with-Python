{
 "cells": [
  {
   "cell_type": "markdown",
   "metadata": {},
   "source": [
    "# Week 1: Functions, Variables - Notes\n",
    "\n",
    "Use this notebook to record your notes from the lecture."
   ]
  }
 ],
 "metadata": {
  "kernelspec": {
   "display_name": "Python 3",
   "language": "python",
   "name": "python3"
  },
  "language_info": {
   "name": "python",
   "version": ""
  }
 },
 "nbformat": 4,
 "nbformat_minor": 5
}
