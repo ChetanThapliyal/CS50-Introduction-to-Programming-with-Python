{
 "cells": [
  {
   "cell_type": "markdown",
   "id": "22cacede",
   "metadata": {},
   "source": [
    "# Week 1: Functions, Variables - Notes\n",
    "\n",
    "This notebook covers foundational concepts in Python programming, including how to write, run, and debug code, manipulate different data types, and create your own functions."
   ]
  },
  {
   "cell_type": "markdown",
   "id": "b009ab01",
   "metadata": {},
   "source": [
    "## Your First Program: \"Hello, World!\"\n",
    "\n",
    "**The `print()` Function:**\n",
    "\n",
    "- The `print()` function is a **built-in function** in Python that displays output to the screen.\n",
    "- It's like an **action or verb** that lets you do something in the program.\n",
    "- The text inside the parentheses and quotes is an **argument** to the function. Arguments are inputs that influence a function's behavior.\n",
    "- Displaying output on the screen is an example of a **side effect** of a function."
   ]
  },
  {
   "cell_type": "code",
   "execution_count": 9,
   "id": "1a072b1d",
   "metadata": {},
   "outputs": [
    {
     "name": "stdout",
     "output_type": "stream",
     "text": [
      "Hello, World!\n"
     ]
    }
   ],
   "source": [
    "print(\"Hello, World!\")"
   ]
  },
  {
   "cell_type": "markdown",
   "id": "408ff0cd",
   "metadata": {},
   "source": [
    "**Running the Program:**\n",
    "\n",
    "1. Save your code in a file (e.g., `hello.py`).\n",
    "2. Open your terminal.\n",
    "3. Navigate to the directory where your file is saved.\n",
    "4. Execute the command: `python hello.py`.\n",
    "\n",
    "> **Python Interpreter:** When you run `python hello.py`, you're using the **Python program (interpreter)** to read and translate your code into the computer's binary system."
   ]
  },
  {
   "cell_type": "markdown",
   "id": "50b1327a",
   "metadata": {},
   "source": [
    "## Dealing with Mistakes: Bugs and Errors\n",
    "\n",
    "**Bugs:**\n",
    "- A **bug** is a **mistake in a program**.\n",
    "- Bugs can take many forms.\n",
    "\n",
    "**Syntax Errors:**\n",
    "- A **syntax error** occurs when you make a mistake in the **structure or grammar** of the programming language.\n",
    "- Even small details, like a missing parenthesis, can cause a syntax error because computers take instructions literally."
   ]
  },
  {
   "cell_type": "code",
   "execution_count": 10,
   "id": "d441989d",
   "metadata": {},
   "outputs": [
    {
     "ename": "_IncompleteInputError",
     "evalue": "incomplete input (704919086.py, line 2)",
     "output_type": "error",
     "traceback": [
      "  \u001b[36mCell\u001b[39m\u001b[36m \u001b[39m\u001b[32mIn[10]\u001b[39m\u001b[32m, line 2\u001b[39m\n\u001b[31m    \u001b[39m\u001b[31mprint(\"Hello, World!\"\u001b[39m\n                         ^\n\u001b[31m_IncompleteInputError\u001b[39m\u001b[31m:\u001b[39m incomplete input\n"
     ]
    }
   ],
   "source": [
    "# Example of a syntax error (missing closing parenthesis)\n",
    "print(\"Hello, World!\""
   ]
  },
  {
   "cell_type": "markdown",
   "id": "3b8f5e02",
   "metadata": {},
   "source": [
    "## Making Programs Interactive: Input and Variables\n",
    "\n",
    "**Getting User Input with `input()`:**\n",
    "- The `input()` function prompts the user for text input.\n",
    "- It can take a string as an **argument** to display a prompt to the user.\n",
    "\n",
    "**Return Values:**\n",
    "- Some functions, like `input()`, have **return values**. This means they give back a piece of information after they complete their action.\n",
    "- The `input()` function returns the text the user typed."
   ]
  },
  {
   "cell_type": "code",
   "execution_count": null,
   "id": "9453ddae",
   "metadata": {},
   "outputs": [],
   "source": [
    "input(\"What's your name? \")"
   ]
  },
  {
   "cell_type": "markdown",
   "id": "572a3930",
   "metadata": {},
   "source": [
    "**Variables:**\n",
    "- A **variable** is a **container for some value** inside a computer's memory.\n",
    "- Variables can store various types of values, such as numbers, text, images, or video.\n",
    "- **Naming Conventions:** Use **descriptive names** for variables (e.g., `name` instead of `x`).\n",
    "\n",
    "**Assignment Operator (`=`):**\n",
    "- In Python, a **single equal sign (`=`)** is the **assignment operator**.\n",
    "- It means \"assign from right to left\" or \"copy from right to left\"."
   ]
  },
  {
   "cell_type": "code",
   "execution_count": null,
   "id": "11211b81",
   "metadata": {},
   "outputs": [],
   "source": [
    "name = input(\"What's your name? \")"
   ]
  },
  {
   "cell_type": "markdown",
   "id": "30d5849c",
   "metadata": {},
   "source": [
    "- This assigns the return value of `input()` (the user's typed name) to the `name` variable.\n",
    "- You can **update the value of a variable** by using the assignment operator again.\n",
    "\n",
    "**Scope:**\n",
    "- **Scope** refers to the context in which a variable exists.\n",
    "- A variable defined within a function (e.g., `name` in `main()`) can only be used within that function. If you try to use it in another function where it wasn't defined or passed, you'll get a `NameError`."
   ]
  },
  {
   "cell_type": "markdown",
   "id": "59532bac",
   "metadata": {},
   "source": [
    "## Improving Readability: Comments and Pseudocode\n",
    "\n",
    "**Comments (`#`):**\n",
    "- **Comments** are notes to yourself or other programmers within your code.\n",
    "- They are **ignored by the computer** but are vital for human understanding.\n",
    "- In Python, you start a comment with a **hash symbol (`#`)**.\n",
    "- **Multi-line comments** can be created by prefixing each line with `#`, or by using three double quotes (`\"\"\"`) or three single quotes (`'''`)."
   ]
  },
  {
   "cell_type": "code",
   "execution_count": null,
   "id": "aed67834",
   "metadata": {},
   "outputs": [],
   "source": [
    "# This is a comment\n",
    "\"\"\"\n",
    "This is a multi-line comment\n",
    "using triple double quotes\n",
    "\"\"\""
   ]
  },
  {
   "cell_type": "markdown",
   "id": "570fb37f",
   "metadata": {},
   "source": [
    "**Pseudocode:**\n",
    "- **Pseudocode** is a way of using human language (like English) to **outline your program's logic** before writing actual code.\n",
    "- It helps break down larger problems into smaller, manageable tasks.\n",
    "- Often, pseudocode can be written as comments in your file to serve as a to-do list."
   ]
  },
  {
   "cell_type": "code",
   "execution_count": null,
   "id": "b6003c7a",
   "metadata": {},
   "outputs": [],
   "source": [
    "# Step 1: Ask user for their name\n",
    "# Step 2: Say hello to user\n",
    "\n",
    "name = input(\"What's your name? \")\n",
    "print(f\"Hello, {name}\")"
   ]
  },
  {
   "cell_type": "markdown",
   "id": "6588208a",
   "metadata": {},
   "source": [
    "## Working with Text: Strings (`str`)\n",
    "\n",
    "**Strings:**\n",
    "- A **string (`str`)** is a technical term for a **sequence of text** (a character, a word, a whole paragraph)."
   ]
  },
  {
   "cell_type": "markdown",
   "id": "14b35a55",
   "metadata": {},
   "source": [
    "**Concatenation (`+`):**\n",
    "- The **plus operator (`+`)** can be used to **concatenate (join)** strings together.\n",
    "\n",
    "**Multiple Arguments to `print()`:**\n",
    "- The `print()` function can take **multiple arguments**, separated by commas.\n",
    "- By **default**, `print()` automatically inserts a **single space** between arguments."
   ]
  },
  {
   "cell_type": "code",
   "execution_count": null,
   "id": "3a65c224",
   "metadata": {},
   "outputs": [],
   "source": [
    "name = \"Alice\"\n",
    "print(\"Hello, \" + name)  # Concatenation\n",
    "print(\"Hello\", name)     # Multiple arguments"
   ]
  },
  {
   "cell_type": "markdown",
   "id": "84d7b72b",
   "metadata": {},
   "source": [
    "**`sep` Parameter (Separator):**\n",
    "- The `print()` function has an optional **named parameter** called `sep` (short for separator).\n",
    "- By default, `sep` is a single space (`' '`). You can **override this default** to specify a different separator."
   ]
  },
  {
   "cell_type": "code",
   "execution_count": 11,
   "id": "0bdabcf3",
   "metadata": {},
   "outputs": [
    {
     "name": "stdout",
     "output_type": "stream",
     "text": [
      "Hello***Hamilton Ferrari\n"
     ]
    }
   ],
   "source": [
    "print(\"Hello\", name, sep='***')"
   ]
  },
  {
   "cell_type": "markdown",
   "id": "70d61c65",
   "metadata": {},
   "source": [
    "**`end` Parameter:**\n",
    "- The `print()` function also has an optional **named parameter** called `end`.\n",
    "- By **default**, `end` is a newline character (`'\\n'`). This means `print()` moves the cursor to the next line after printing.\n",
    "- You can **override this default** to prevent a new line or specify other characters."
   ]
  },
  {
   "cell_type": "code",
   "execution_count": null,
   "id": "650dba31",
   "metadata": {},
   "outputs": [],
   "source": [
    "print(\"Hello,\", end=\"\")\n",
    "print(name)"
   ]
  },
  {
   "cell_type": "markdown",
   "id": "1dfd15cd",
   "metadata": {},
   "source": [
    "**Escape Characters (`\\`):**\n",
    "- A **backslash (`\\`)** is an **escape character**. It allows you to include special characters or characters that would otherwise have a syntactic meaning within a string.\n",
    "- `\\n` means **newline**.\n",
    "- `\\\"` or `\\'` allows you to include literal double or single quotes within a string without ending the string.\n",
    "- Alternatively, you can use single quotes for the outer string and double quotes for the inner quotes (or vice versa)."
   ]
  },
  {
   "cell_type": "code",
   "execution_count": null,
   "id": "a4459c8e",
   "metadata": {},
   "outputs": [],
   "source": [
    "print(\"Hello \\\"friend\\\"\")  # prints: Hello \"friend\""
   ]
  },
  {
   "cell_type": "markdown",
   "id": "4c5e4c63",
   "metadata": {},
   "source": [
    "**f-strings (Format Strings):**\n",
    "- f-strings are a relatively new and **elegant way to embed variables directly into strings**.\n",
    "- Prefix the string literal with `f` or `F`.\n",
    "- Place variables inside **curly braces (`{}`)** within the string."
   ]
  },
  {
   "cell_type": "code",
   "execution_count": null,
   "id": "71af5333",
   "metadata": {},
   "outputs": [],
   "source": [
    "print(f\"Hello, {name}\")"
   ]
  },
  {
   "cell_type": "markdown",
   "id": "6a200382",
   "metadata": {},
   "source": [
    "## String Methods (Built-in Functionality)\n",
    "\n",
    "Strings come with many **built-in functions**, often called **methods** in this context. You access these methods using the dot (`.`) operator after the string variable."
   ]
  },
  {
   "cell_type": "markdown",
   "id": "88023146",
   "metadata": {},
   "source": [
    "**`.strip()`:**\n",
    "- Removes **whitespace** (spaces, tabs, newlines) from the **beginning and end** of a string."
   ]
  },
  {
   "cell_type": "code",
   "execution_count": 12,
   "id": "c01eebd7",
   "metadata": {},
   "outputs": [
    {
     "name": "stdout",
     "output_type": "stream",
     "text": [
      "Hamilton Ferrari\n"
     ]
    }
   ],
   "source": [
    "name = \"  Hamilton Ferrari  \"\n",
    "print(name.strip())"
   ]
  },
  {
   "cell_type": "markdown",
   "id": "33a9f215",
   "metadata": {},
   "source": [
    "**`.capitalize()`:**\n",
    "- Capitalizes only the **first letter** of the string."
   ]
  },
  {
   "cell_type": "code",
   "execution_count": 13,
   "id": "a0598f62",
   "metadata": {},
   "outputs": [
    {
     "name": "stdout",
     "output_type": "stream",
     "text": [
      "Apple\n"
     ]
    }
   ],
   "source": [
    "string = \"apple\"\n",
    "print(string.capitalize())"
   ]
  },
  {
   "cell_type": "markdown",
   "id": "2dc7a1b3",
   "metadata": {},
   "source": [
    "**`.title()`:**\n",
    "- Capitalizes the **first letter of each word** in a string (title-casing)."
   ]
  },
  {
   "cell_type": "code",
   "execution_count": 14,
   "id": "f7a1b7e3",
   "metadata": {},
   "outputs": [
    {
     "name": "stdout",
     "output_type": "stream",
     "text": [
      "Hamilton Ferrari\n"
     ]
    }
   ],
   "source": [
    "title = \"hamilton ferrari\"\n",
    "print(title.title())"
   ]
  },
  {
   "cell_type": "markdown",
   "id": "2d2f1ff1",
   "metadata": {},
   "source": [
    "**Chaining Methods:**\n",
    "- You can **chain multiple methods** together on a single line.\n",
    "- The methods are executed from **left to right**."
   ]
  },
  {
   "cell_type": "code",
   "execution_count": 15,
   "id": "f120118a",
   "metadata": {},
   "outputs": [
    {
     "name": "stdout",
     "output_type": "stream",
     "text": [
      "Hamilton Ferrari\n"
     ]
    }
   ],
   "source": [
    "name = input(\"What's your name? \").strip().title()\n",
    "print(name)"
   ]
  },
  {
   "cell_type": "markdown",
   "id": "92068d1b",
   "metadata": {},
   "source": [
    "**`.split()`:**\n",
    "- Splits a string into a **sequence of smaller substrings** based on a specified delimiter."
   ]
  },
  {
   "cell_type": "code",
   "execution_count": 16,
   "id": "b40a5116",
   "metadata": {},
   "outputs": [
    {
     "name": "stdout",
     "output_type": "stream",
     "text": [
      "David\n",
      "Malin\n"
     ]
    }
   ],
   "source": [
    "full_name = \"David Malin\"\n",
    "first, last = full_name.split(\" \")\n",
    "print(first)\n",
    "print(last)"
   ]
  },
  {
   "cell_type": "markdown",
   "id": "bb9bfd00",
   "metadata": {},
   "source": [
    "## Working with Numbers: Integers (`int`) and Floats (`float`)\n",
    "\n",
    "**Integers (`int`):**\n",
    "- Whole numbers (positive, negative, or zero) **without a decimal point**.\n",
    "- Example: `-2, -1, 0, 1, 2`.\n",
    "- In Python, integers can be **as large as you want them to be**.\n",
    "\n",
    "**Floating-point numbers (`float`):**\n",
    "- Numbers that have a **decimal point**. Also called \"real numbers\".\n",
    "- Example: `1.2, 3.4, -0.5`.\n",
    "- Floats have a **finite precision** due to computer memory limitations."
   ]
  },
  {
   "cell_type": "markdown",
   "id": "4a610c51",
   "metadata": {},
   "source": [
    "**Arithmetic Operators:**\n",
    "- `+` (addition)\n",
    "- `-` (subtraction)\n",
    "- `*` (multiplication)\n",
    "- `/` (division)\n",
    "- `%` (modulo operator - returns the remainder after division)"
   ]
  },
  {
   "cell_type": "code",
   "execution_count": null,
   "id": "f2c7c05f",
   "metadata": {},
   "outputs": [],
   "source": [
    "x = 5\n",
    "y = 2\n",
    "print(x + y)  # Addition\n",
    "print(x - y)  # Subtraction\n",
    "print(x * y)  # Multiplication\n",
    "print(x / y)  # Division\n",
    "print(x % y)  # Modulo"
   ]
  },
  {
   "cell_type": "markdown",
   "id": "893e0595",
   "metadata": {},
   "source": [
    "**Type Conversion:**\n",
    "- When you get input from the user using `input()`, it is **always a string by default**, even if it looks like a number.\n",
    "- You need to **convert strings to numbers** before performing mathematical operations.\n",
    "- `int()` function: Converts a string to an integer (if it looks like a whole number).\n",
    "- `float()` function: Converts a string to a floating-point number (if it looks like a number, integer or decimal).\n",
    "- **Nesting Functions:** You can nest function calls, where the return value of an inner function becomes an argument to an outer function. Python evaluates from the innermost parentheses outwards."
   ]
  },
  {
   "cell_type": "code",
   "execution_count": 17,
   "id": "7145ffae",
   "metadata": {},
   "outputs": [
    {
     "name": "stdout",
     "output_type": "stream",
     "text": [
      "99.0\n"
     ]
    }
   ],
   "source": [
    "x = int(input(\"What's x? \"))\n",
    "y = float(input(\"What's y? \"))\n",
    "print(x + y)"
   ]
  },
  {
   "cell_type": "markdown",
   "id": "73418dfa",
   "metadata": {},
   "source": [
    "**`round()` Function:**\n",
    "- `round(number)`: Rounds a number to the nearest integer.\n",
    "- `round(number, n_digits)`: Rounds a number to a specified number of digits after the decimal point."
   ]
  },
  {
   "cell_type": "code",
   "execution_count": 18,
   "id": "b38166ef",
   "metadata": {},
   "outputs": [
    {
     "name": "stdout",
     "output_type": "stream",
     "text": [
      "3\n",
      "3.14\n"
     ]
    }
   ],
   "source": [
    "z = 3.14159\n",
    "print(round(z))      # Rounds to nearest integer\n",
    "print(round(z, 2))  # Rounds to 2 decimal places"
   ]
  },
  {
   "cell_type": "markdown",
   "id": "378bf762",
   "metadata": {},
   "source": [
    "**Formatting Numbers with f-strings:**\n",
    "- You can format numbers within f-strings using a colon (`:`) followed by format specifiers.\n",
    "- `z:,.0f`: Formats a number `z` with commas as thousands separators and zero decimal places (rounds to nearest integer).\n",
    "- `z:.2f`: Formats a number `z` to two decimal places."
   ]
  },
  {
   "cell_type": "code",
   "execution_count": 19,
   "id": "ca850068",
   "metadata": {},
   "outputs": [
    {
     "name": "stdout",
     "output_type": "stream",
     "text": [
      "12,346\n",
      "12345.68\n"
     ]
    }
   ],
   "source": [
    "z = 12345.6789\n",
    "print(f\"{z:,.0f}\")  # 12,346\n",
    "print(f\"{z:.2f}\")   # 12345.68"
   ]
  },
  {
   "cell_type": "markdown",
   "id": "d1b9ec48",
   "metadata": {},
   "source": [
    "## Defining Your Own Functions\n",
    "\n",
    "**`def` Keyword:**\n",
    "- Use the `def` keyword (short for define) to **create (define) your own functions**.\n",
    "- Syntax: `def function_name(parameters):`.\n",
    "- The colon (`:`) indicates that the function's body will be indented below.\n",
    "- **Indentation is crucial**; all lines belonging to the function must be consistently indented (typically 4 spaces)."
   ]
  },
  {
   "cell_type": "code",
   "execution_count": 20,
   "id": "5572eb2f",
   "metadata": {},
   "outputs": [
    {
     "name": "stdout",
     "output_type": "stream",
     "text": [
      "Hello!\n"
     ]
    }
   ],
   "source": [
    "def hello():\n",
    "    print(\"Hello!\")\n",
    "\n",
    "hello()"
   ]
  },
  {
   "cell_type": "markdown",
   "id": "55770135",
   "metadata": {},
   "source": [
    "**Parameters and Arguments:**\n",
    "- **Parameters** are the **inputs a function can take**, defined in the function's definition (e.g., `n` in `def square(n):`).\n",
    "- **Arguments** are the **actual values** you pass to a function when you call it (e.g., `x` in `square(x)`).\n",
    "- When a function is called, the argument's value is **copied** to the corresponding parameter."
   ]
  },
  {
   "cell_type": "code",
   "execution_count": null,
   "id": "ceef5c72",
   "metadata": {},
   "outputs": [],
   "source": [
    "def square(n):\n",
    "    return n * n\n",
    "\n",
    "print(square(4))"
   ]
  },
  {
   "cell_type": "markdown",
   "id": "d1741d55",
   "metadata": {},
   "source": [
    "**Default Parameter Values:**\n",
    "- You can give parameters **default values** in the function definition. If an argument isn't provided for that parameter when the function is called, the default value will be used.\n",
    "- Syntax: `def hello(to=\"world\"): ...`"
   ]
  },
  {
   "cell_type": "code",
   "execution_count": null,
   "id": "c467f737",
   "metadata": {},
   "outputs": [],
   "source": [
    "def hello(to=\"world\"):\n",
    "    print(f\"Hello, {to}\")\n",
    "\n",
    "hello()\n",
    "hello(\"Alice\")"
   ]
  },
  {
   "cell_type": "markdown",
   "id": "c5057531",
   "metadata": {},
   "source": [
    "**`return` Keyword:**\n",
    "- The `return` keyword explicitly hands back a **return value** from your function.\n",
    "- If a function doesn't have an explicit `return` statement, it implicitly returns `None`."
   ]
  },
  {
   "cell_type": "code",
   "execution_count": null,
   "id": "51b57164",
   "metadata": {},
   "outputs": [],
   "source": [
    "def square(n):\n",
    "    return n * n\n",
    "\n",
    "result = square(5)\n",
    "print(result)"
   ]
  },
  {
   "cell_type": "markdown",
   "id": "53268db6",
   "metadata": {},
   "source": [
    "**Function Placement and `main()` Convention:**\n",
    "- Python executes code **top to bottom**. A function must be **defined before it is called**.\n",
    "- It's a common convention to put the **main logic of your program inside a function called `main()`**.\n",
    "- You then **call `main()` at the very end** of your file. This allows you to define other helper functions (like `hello()` or `square()`) above `main()` or below it, as long as `main()` is called after all definitions."
   ]
  },
  {
   "cell_type": "code",
   "execution_count": null,
   "id": "c3cf01e4",
   "metadata": {},
   "outputs": [],
   "source": [
    "def main():\n",
    "    name = input(\"What's your name? \")\n",
    "    hello(name)\n",
    "\n",
    "def hello(to=\"world\"):\n",
    "    print(f\"Hello, {to}\")\n",
    "\n",
    "if __name__ == \"__main__\":\n",
    "    main()"
   ]
  }
 ],
 "metadata": {
  "kernelspec": {
   "display_name": "Python 3",
   "language": "python",
   "name": "python3"
  },
  "language_info": {
   "name": "python",
   "version": "3.13.7"
  }
 },
 "nbformat": 4,
 "nbformat_minor": 5
}
