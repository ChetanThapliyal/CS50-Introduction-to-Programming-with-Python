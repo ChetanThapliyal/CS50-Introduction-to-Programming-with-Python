{
 "cells": [
  {
   "cell_type": "markdown",
   "metadata": {},
   "source": [
    "# Week 1: Functions, Variables - Problem Set\n",
    "\n",
    "Complete the problem set for this week in this notebook."
   ]
  },
  {
   "cell_type": "markdown",
   "id": "e7565bcf",
   "metadata": {},
   "source": []
  }
 ],
 "metadata": {
  "kernelspec": {
   "display_name": "Python 3",
   "language": "python",
   "name": "python3"
  },
  "language_info": {
   "name": "python",
   "version": ""
  }
 },
 "nbformat": 4,
 "nbformat_minor": 5
}
